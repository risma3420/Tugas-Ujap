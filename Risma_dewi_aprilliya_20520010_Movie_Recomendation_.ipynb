{
  "nbformat": 4,
  "nbformat_minor": 0,
  "metadata": {
    "colab": {
      "provenance": []
    },
    "kernelspec": {
      "name": "python3",
      "display_name": "Python 3"
    },
    "language_info": {
      "name": "python"
    }
  },
  "cells": [
    {
      "cell_type": "code",
      "source": [
        "!pip install surprise\n",
        "\n",
        "import sys\n",
        "import random\n",
        "from surprise import Dataset, Reader\n",
        "from surprise import KNNBasic\n",
        "from surprise.model_selection import train_test_split\n",
        "from surprise import accuracy\n",
        "from surprise.dataset import DatasetAutoFolds\n",
        "import matplotlib.pyplot as plt\n",
        "import seaborn as sns\n",
        "import pandas as pd\n",
        "import operator\n",
        "import requests\n",
        "from zipfile import ZipFile"
      ],
      "metadata": {
        "colab": {
          "base_uri": "https://localhost:8080/"
        },
        "id": "pjSLuNdF-osw",
        "outputId": "762e7cbd-f98c-4448-de41-42718a8a9083"
      },
      "execution_count": 2,
      "outputs": [
        {
          "output_type": "stream",
          "name": "stdout",
          "text": [
            "Collecting surprise\n",
            "  Downloading surprise-0.1-py2.py3-none-any.whl.metadata (327 bytes)\n",
            "Collecting scikit-surprise (from surprise)\n",
            "  Downloading scikit_surprise-1.1.4.tar.gz (154 kB)\n",
            "\u001b[2K     \u001b[90m━━━━━━━━━━━━━━━━━━━━━━━━━━━━━━━━━━━━━━━━\u001b[0m \u001b[32m154.4/154.4 kB\u001b[0m \u001b[31m3.1 MB/s\u001b[0m eta \u001b[36m0:00:00\u001b[0m\n",
            "\u001b[?25h  Installing build dependencies ... \u001b[?25l\u001b[?25hdone\n",
            "  Getting requirements to build wheel ... \u001b[?25l\u001b[?25hdone\n",
            "  Preparing metadata (pyproject.toml) ... \u001b[?25l\u001b[?25hdone\n",
            "Requirement already satisfied: joblib>=1.2.0 in /usr/local/lib/python3.11/dist-packages (from scikit-surprise->surprise) (1.4.2)\n",
            "Requirement already satisfied: numpy>=1.19.5 in /usr/local/lib/python3.11/dist-packages (from scikit-surprise->surprise) (1.26.4)\n",
            "Requirement already satisfied: scipy>=1.6.0 in /usr/local/lib/python3.11/dist-packages (from scikit-surprise->surprise) (1.13.1)\n",
            "Downloading surprise-0.1-py2.py3-none-any.whl (1.8 kB)\n",
            "Building wheels for collected packages: scikit-surprise\n",
            "  Building wheel for scikit-surprise (pyproject.toml) ... \u001b[?25l\u001b[?25hdone\n",
            "  Created wheel for scikit-surprise: filename=scikit_surprise-1.1.4-cp311-cp311-linux_x86_64.whl size=2505172 sha256=5c269b13b23cc8c358e5d10d0fd175cc97fe21fbb52f2c995bedcc7cb9fbb562\n",
            "  Stored in directory: /root/.cache/pip/wheels/2a/8f/6e/7e2899163e2d85d8266daab4aa1cdabec7a6c56f83c015b5af\n",
            "Successfully built scikit-surprise\n",
            "Installing collected packages: scikit-surprise, surprise\n",
            "Successfully installed scikit-surprise-1.1.4 surprise-0.1\n"
          ]
        }
      ]
    },
    {
      "cell_type": "code",
      "source": [
        "import random\n",
        "\n",
        "df = pd.read_csv('/content/drive/MyDrive/colleb/ujsp/ratings.csv',\n",
        "                 skiprows=lambda i: i > 0 and random.random() > 0.002,\n",
        "                 on_bad_lines=\"skip\")\n",
        "\n",
        "print(len(df))"
      ],
      "metadata": {
        "colab": {
          "base_uri": "https://localhost:8080/"
        },
        "id": "X4zzNmWD_0QX",
        "outputId": "704cee6d-ee9b-44f5-b2c9-1bbe860d4091"
      },
      "execution_count": 3,
      "outputs": [
        {
          "output_type": "stream",
          "name": "stdout",
          "text": [
            "50130\n"
          ]
        }
      ]
    },
    {
      "cell_type": "code",
      "source": [
        "df=df[0:20000]"
      ],
      "metadata": {
        "id": "fJX3S-snC988"
      },
      "execution_count": 4,
      "outputs": []
    },
    {
      "cell_type": "code",
      "source": [
        "reader = Reader(rating_scale=(1,5))\n",
        "data = Dataset.load_from_df(df[['userId','movieId','rating']], reader)\n",
        "print(type(data))"
      ],
      "metadata": {
        "colab": {
          "base_uri": "https://localhost:8080/"
        },
        "id": "ORqoRtCcDArR",
        "outputId": "e8a72711-bf91-4961-db14-1892af04c56d"
      },
      "execution_count": 5,
      "outputs": [
        {
          "output_type": "stream",
          "name": "stdout",
          "text": [
            "<class 'surprise.dataset.DatasetAutoFolds'>\n"
          ]
        }
      ]
    },
    {
      "cell_type": "code",
      "source": [
        "# Split the data into training and testing sets\n",
        "trainset, testset = train_test_split(data, test_size=0.25)\n",
        "print(type(trainset))"
      ],
      "metadata": {
        "colab": {
          "base_uri": "https://localhost:8080/"
        },
        "id": "gDhleQ-wDHuI",
        "outputId": "7bb87521-8122-42d1-9829-22cf87ea2e0e"
      },
      "execution_count": 6,
      "outputs": [
        {
          "output_type": "stream",
          "name": "stdout",
          "text": [
            "<class 'surprise.trainset.Trainset'>\n"
          ]
        }
      ]
    },
    {
      "cell_type": "code",
      "source": [
        "import itertools\n",
        "\n",
        "for uid, iid, rating in itertools.islice(trainset.all_ratings(), 5):\n",
        "    print(f\"User {uid} rated item {iid} with a rating of {rating}\")\n",
        "\n",
        "print()\n",
        "for uid, iid, rating in testset[:5]:\n",
        "    print(f\"User {uid} rated item {iid} with a rating of {rating}\")\n",
        "\n",
        "print()\n",
        "print(trainset.n_ratings,len(testset))"
      ],
      "metadata": {
        "colab": {
          "base_uri": "https://localhost:8080/"
        },
        "id": "zptODausDJuO",
        "outputId": "a090d6d6-98fc-48b3-de7a-3cc247884cc8"
      },
      "execution_count": 7,
      "outputs": [
        {
          "output_type": "stream",
          "name": "stdout",
          "text": [
            "User 0 rated item 0 with a rating of 4.0\n",
            "User 1 rated item 1 with a rating of 3.0\n",
            "User 2 rated item 2 with a rating of 4.0\n",
            "User 3 rated item 3 with a rating of 4.0\n",
            "User 3 rated item 1898 with a rating of 5.0\n",
            "\n",
            "User 61911 rated item 68194 with a rating of 4.0\n",
            "User 61913 rated item 193065 with a rating of 3.5\n",
            "User 39742 rated item 25748 with a rating of 4.5\n",
            "User 22616 rated item 8961 with a rating of 3.5\n",
            "User 1785 rated item 19 with a rating of 2.0\n",
            "\n",
            "15000 5000\n"
          ]
        }
      ]
    },
    {
      "cell_type": "code",
      "source": [
        "# Use the KNNBasic algorithm to train the model\n",
        "algo = KNNBasic()\n",
        "algo.fit(trainset)"
      ],
      "metadata": {
        "colab": {
          "base_uri": "https://localhost:8080/"
        },
        "id": "Zf0xYPn1DRCt",
        "outputId": "32d06caf-000b-45a4-fdda-495e8bd81ed9"
      },
      "execution_count": 8,
      "outputs": [
        {
          "output_type": "stream",
          "name": "stdout",
          "text": [
            "Computing the msd similarity matrix...\n",
            "Done computing similarity matrix.\n"
          ]
        },
        {
          "output_type": "execute_result",
          "data": {
            "text/plain": [
              "<surprise.prediction_algorithms.knns.KNNBasic at 0x7bf8297d5650>"
            ]
          },
          "metadata": {},
          "execution_count": 8
        }
      ]
    },
    {
      "cell_type": "code",
      "source": [
        "# Test the model on the testing set\n",
        "predictions = algo.test(testset)"
      ],
      "metadata": {
        "id": "l7teviZpDWMI"
      },
      "execution_count": 9,
      "outputs": []
    },
    {
      "cell_type": "code",
      "source": [
        "for uid, iid, rating in testset[:5]:\n",
        "    print(f\"User {uid} rated item {iid} with a rating of {rating}\")"
      ],
      "metadata": {
        "colab": {
          "base_uri": "https://localhost:8080/"
        },
        "id": "djNpBkpcDaRW",
        "outputId": "e025fc85-b746-40eb-a338-7dfb2a7fca12"
      },
      "execution_count": 10,
      "outputs": [
        {
          "output_type": "stream",
          "name": "stdout",
          "text": [
            "User 61911 rated item 68194 with a rating of 4.0\n",
            "User 61913 rated item 193065 with a rating of 3.5\n",
            "User 39742 rated item 25748 with a rating of 4.5\n",
            "User 22616 rated item 8961 with a rating of 3.5\n",
            "User 1785 rated item 19 with a rating of 2.0\n"
          ]
        }
      ]
    },
    {
      "cell_type": "code",
      "source": [
        "for prediction in predictions[0:5]:\n",
        "    print(prediction)"
      ],
      "metadata": {
        "colab": {
          "base_uri": "https://localhost:8080/"
        },
        "id": "R7bkrT6YDhUp",
        "outputId": "e279f1fe-df79-4d96-8f2f-48e7f49db556"
      },
      "execution_count": 11,
      "outputs": [
        {
          "output_type": "stream",
          "name": "stdout",
          "text": [
            "user: 61911      item: 68194      r_ui = 4.00   est = 3.51   {'was_impossible': True, 'reason': 'User and/or item is unknown.'}\n",
            "user: 61913      item: 193065     r_ui = 3.50   est = 3.51   {'was_impossible': True, 'reason': 'User and/or item is unknown.'}\n",
            "user: 39742      item: 25748      r_ui = 4.50   est = 3.51   {'was_impossible': True, 'reason': 'User and/or item is unknown.'}\n",
            "user: 22616      item: 8961       r_ui = 3.50   est = 3.51   {'was_impossible': True, 'reason': 'Not enough neighbors.'}\n",
            "user: 1785       item: 19         r_ui = 2.00   est = 3.51   {'was_impossible': True, 'reason': 'User and/or item is unknown.'}\n"
          ]
        }
      ]
    },
    {
      "cell_type": "code",
      "source": [
        "# Print the performance metrics\n",
        "accuracy.rmse(predictions)"
      ],
      "metadata": {
        "colab": {
          "base_uri": "https://localhost:8080/"
        },
        "id": "nSQZryD9DkvJ",
        "outputId": "cd31ccd1-7a8f-4861-8e52-1c571e6ea802"
      },
      "execution_count": 12,
      "outputs": [
        {
          "output_type": "stream",
          "name": "stdout",
          "text": [
            "RMSE: 1.0526\n"
          ]
        },
        {
          "output_type": "execute_result",
          "data": {
            "text/plain": [
              "1.0526338845644925"
            ]
          },
          "metadata": {},
          "execution_count": 12
        }
      ]
    },
    {
      "cell_type": "code",
      "source": [
        "true_ratings = [pred.r_ui for pred in predictions]\n",
        "est_ratings = [pred.est for pred in predictions]\n",
        "uids = [pred.uid for pred in predictions]"
      ],
      "metadata": {
        "id": "ZFYoUF37DrFV"
      },
      "execution_count": 13,
      "outputs": []
    },
    {
      "cell_type": "code",
      "source": [
        "data=pd.DataFrame(columns=[\"true\",\"predicted\"])\n",
        "data[\"true\"]=true_ratings\n",
        "data[\"predicted\"]=est_ratings\n",
        "g = sns.jointplot(data=data,x=\"true\", y=\"predicted\", kind=\"kde\",)\n",
        "g.fig.suptitle('Test predictions',fontsize=12)\n",
        "plt.show()"
      ],
      "metadata": {
        "colab": {
          "base_uri": "https://localhost:8080/",
          "height": 609
        },
        "id": "1nDTXbHsDs-g",
        "outputId": "a8f5afce-5d60-4637-ca2e-226701d3a687"
      },
      "execution_count": 14,
      "outputs": [
        {
          "output_type": "display_data",
          "data": {
            "text/plain": [
              "<Figure size 600x600 with 3 Axes>"
            ],
            "image/png": "[encoded data removed]"
          },
          "metadata": {}
        }
      ]
    },
    {
      "cell_type": "code",
      "source": [
        "movies=pd.read_csv('/content/drive/MyDrive/colleb/ujsp/movies.csv')\n",
        "mapping = movies.set_index(\"movieId\")[\"title\"].to_dict()"
      ],
      "metadata": {
        "id": "2ALlPX3XD4Nc"
      },
      "execution_count": 15,
      "outputs": []
    },
    {
      "cell_type": "code",
      "source": [
        "users=list(set(uids))"
      ],
      "metadata": {
        "id": "58Zjt8AdEAmq"
      },
      "execution_count": 16,
      "outputs": []
    },
    {
      "cell_type": "code",
      "source": [
        "# items which the user not yet evaluate\n",
        "items = trainset.build_anti_testset()\n",
        "for user in users[0:30]:\n",
        "    user_items = list(filter(lambda x: x[0] == user, items))\n",
        "    #print(user,len(user_items))\n",
        "    # generate recommendation\n",
        "    recommendations = algo.test(user_items)\n",
        "    if len(recommendations)>0:\n",
        "        recommendations.sort(key=operator.itemgetter(3), reverse=True)\n",
        "        print(f\"For User {user}, Recommendations:\")\n",
        "        for r in recommendations[0:5]:\n",
        "            print(f\"  {mapping[r[1]]} : Estimated rating {round(r[3],4)}\")"
      ],
      "metadata": {
        "colab": {
          "base_uri": "https://localhost:8080/"
        },
        "id": "GApvipKgEFPH",
        "outputId": "c1724338-5a50-4541-ee6f-27a9e5c76dad"
      },
      "execution_count": 17,
      "outputs": [
        {
          "output_type": "stream",
          "name": "stdout",
          "text": [
            "For User 24581, Recommendations:\n",
            "  Room with a View, A (1986) : Estimated rating 5\n",
            "  Searching for Sugar Man (2012) : Estimated rating 4.5\n",
            "  Mysterious Island (1961) : Estimated rating 4.0\n",
            "  Conspirator, The (2010) : Estimated rating 4.0\n",
            "  America, America (1963) : Estimated rating 4.0\n",
            "For User 32778, Recommendations:\n",
            "  Opposite of Sex, The (1998) : Estimated rating 4.0\n",
            "  All Dogs Go to Heaven (1989) : Estimated rating 4.0\n",
            "  Bounce (2000) : Estimated rating 4.0\n",
            "  Tomorrow Never Dies (1997) : Estimated rating 3.5112\n",
            "  Lethal Weapon 2 (1989) : Estimated rating 3.5112\n",
            "For User 49177, Recommendations:\n",
            "  Avatar (2009) : Estimated rating 5\n",
            "  Avengers: Infinity War - Part I (2018) : Estimated rating 4.0\n",
            "  Tomorrow Never Dies (1997) : Estimated rating 3.5112\n",
            "  Lethal Weapon 2 (1989) : Estimated rating 3.5112\n",
            "  Crimson Tide (1995) : Estimated rating 3.5112\n",
            "For User 32794, Recommendations:\n",
            "  American Werewolf in London, An (1981) : Estimated rating 5\n",
            "  Pulp Fiction (1994) : Estimated rating 4.0\n",
            "  Tomorrow Never Dies (1997) : Estimated rating 3.5112\n",
            "  Lethal Weapon 2 (1989) : Estimated rating 3.5112\n",
            "  Crimson Tide (1995) : Estimated rating 3.5112\n",
            "For User 24610, Recommendations:\n",
            "  Nightwatch (1997) : Estimated rating 4.5\n",
            "  King Solomon's Mines (1985) : Estimated rating 4.0\n",
            "  Tomorrow Never Dies (1997) : Estimated rating 3.5112\n",
            "  Lethal Weapon 2 (1989) : Estimated rating 3.5112\n",
            "  Crimson Tide (1995) : Estimated rating 3.5112\n",
            "For User 32810, Recommendations:\n",
            "  Tomorrow Never Dies (1997) : Estimated rating 3.5112\n",
            "  Lethal Weapon 2 (1989) : Estimated rating 3.5112\n",
            "  Crimson Tide (1995) : Estimated rating 3.5112\n",
            "  Lord of the Rings: The Return of the King, The (2003) : Estimated rating 3.5112\n",
            "  Virgin Spring, The (Jungfrukällan) (1960) : Estimated rating 3.5112\n",
            "For User 32812, Recommendations:\n",
            "  Pay It Forward (2000) : Estimated rating 5\n",
            "  Hangover, The (2009) : Estimated rating 4.5\n",
            "  Pineapple Express (2008) : Estimated rating 4.5\n",
            "  Cast Away (2000) : Estimated rating 4.0\n",
            "  Arachnophobia (1990) : Estimated rating 4.0\n",
            "For User 8240, Recommendations:\n",
            "  Snatch (2000) : Estimated rating 5\n",
            "  Coming to America (1988) : Estimated rating 5\n",
            "  Forbidden Planet (1956) : Estimated rating 5\n",
            "  Invisible Man, The (1933) : Estimated rating 5\n",
            "  Bride of Frankenstein, The (Bride of Frankenstein) (1935) : Estimated rating 4.5\n",
            "For User 41013, Recommendations:\n",
            "  Double Indemnity (1944) : Estimated rating 5\n",
            "  Bull Durham (1988) : Estimated rating 4.0\n",
            "  Tomorrow Never Dies (1997) : Estimated rating 3.5112\n",
            "  Lethal Weapon 2 (1989) : Estimated rating 3.5112\n",
            "  Crimson Tide (1995) : Estimated rating 3.5112\n",
            "For User 41014, Recommendations:\n",
            "  Raging Bull (1980) : Estimated rating 4.0\n",
            "  Tomorrow Never Dies (1997) : Estimated rating 3.5112\n",
            "  Lethal Weapon 2 (1989) : Estimated rating 3.5112\n",
            "  Crimson Tide (1995) : Estimated rating 3.5112\n",
            "  Lord of the Rings: The Return of the King, The (2003) : Estimated rating 3.5112\n",
            "For User 57399, Recommendations:\n",
            "  Stranger than Fiction (2006) : Estimated rating 4.5\n",
            "  Monsters, Inc. (2001) : Estimated rating 4.0\n",
            "  Village, The (2004) : Estimated rating 4.0\n",
            "  Dragon: The Bruce Lee Story (1993) : Estimated rating 4.0\n",
            "  Tomorrow Never Dies (1997) : Estimated rating 3.5112\n",
            "For User 61, Recommendations:\n",
            "  Ghostbusters (a.k.a. Ghost Busters) (1984) : Estimated rating 4.5\n",
            "  Tomorrow Never Dies (1997) : Estimated rating 3.5112\n",
            "  Lethal Weapon 2 (1989) : Estimated rating 3.5112\n",
            "  Crimson Tide (1995) : Estimated rating 3.5112\n",
            "  Lord of the Rings: The Return of the King, The (2003) : Estimated rating 3.5112\n"
          ]
        }
      ]
    },
    {
      "cell_type": "code",
      "source": [],
      "metadata": {
        "id": "1BDgiIwOFH7w"
      },
      "execution_count": null,
      "outputs": []
    }
  ]
}