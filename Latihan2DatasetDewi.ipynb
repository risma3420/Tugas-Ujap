{
  "nbformat": 4,
  "nbformat_minor": 0,
  "metadata": {
    "colab": {
      "provenance": []
    },
    "kernelspec": {
      "name": "python3",
      "display_name": "Python 3"
    },
    "language_info": {
      "name": "python"
    }
  },
  "cells": [
    {
      "cell_type": "markdown",
      "source": [
        "Latihan Training set dan Test set"
      ],
      "metadata": {
        "id": "dLsSdokj981U"
      }
    },
    {
      "cell_type": "code",
      "source": [
        "#Latihan Training set dan Test set\n",
        "from sklearn.model_selection import train_test_split\n",
        "\n",
        "X_data = range(20)\n",
        "y_data = range(20)"
      ],
      "metadata": {
        "id": "X7r88rWW-EXg"
      },
      "execution_count": 1,
      "outputs": []
    },
    {
      "cell_type": "code",
      "source": [
        "print(\"random_state ditentukan\")\n",
        "for i in range(3):\n",
        "  X_train, X_test, y_train, y_test = train_test_split(X_data, y_data, test_size = 0.3, random_state = 42)\n",
        "  print(y_test)\n",
        "\n",
        "print(\"random_state tidak ditentukan\")\n",
        "for i in range(3):\n",
        "  X_train, X_test, y_train, y_test = train_test_split(X_data, y_data, test_size = 0.3, random_state = None)\n",
        "  print(y_test)\n"
      ],
      "metadata": {
        "colab": {
          "base_uri": "https://localhost:8080/"
        },
        "id": "L8Nr2p_R-P0r",
        "outputId": "b6abc514-11c4-436b-a33d-e2ca72a87107"
      },
      "execution_count": 2,
      "outputs": [
        {
          "output_type": "stream",
          "name": "stdout",
          "text": [
            "random_state ditentukan\n",
            "[0, 17, 15, 1, 8, 5]\n",
            "[0, 17, 15, 1, 8, 5]\n",
            "[0, 17, 15, 1, 8, 5]\n",
            "random_state tidak ditentukan\n",
            "[6, 11, 7, 16, 0, 19]\n",
            "[16, 3, 18, 10, 8, 7]\n",
            "[12, 11, 14, 6, 1, 2]\n"
          ]
        }
      ]
    }
  ]
}